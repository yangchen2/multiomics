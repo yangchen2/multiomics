{
 "cells": [
  {
   "cell_type": "code",
   "execution_count": 1,
   "id": "94488c0a-820d-4cf0-884b-5b5937f0e1bb",
   "metadata": {},
   "outputs": [],
   "source": [
    "from gemelli import rpca\n",
    "import biom \n",
    "import pandas as pd\n",
    "import numpy as np\n",
    "import qiime2 as q2\n",
    "\n",
    "from sklearn.model_selection import train_test_split\n",
    "from qiime2.plugins import emperor\n",
    "\n",
    "# plotting\n",
    "%matplotlib inline\n",
    "import matplotlib.pyplot as plt\n",
    "import seaborn as sns"
   ]
  },
  {
   "cell_type": "code",
   "execution_count": 2,
   "id": "cf4cbbce-93b8-4eef-84b5-850bfe8249e2",
   "metadata": {},
   "outputs": [
    {
     "data": {
      "text/plain": [
       "352 x 1177 <class 'biom.table.Table'> with 336820 nonzero entries (81% dense)"
      ]
     },
     "execution_count": 2,
     "metadata": {},
     "output_type": "execute_result"
    }
   ],
   "source": [
    "wol2_bt = biom.load_table('/projects/thdmi/feature-tables/wol2_filtered_table_zebra.biom')\n",
    "ko_bt = biom.load_table('/projects/thdmi/feature-tables/kegg_filtered_table_zebra.biom') \n",
    "pathways_bt = biom.load_table('/projects/thdmi/feature-tables/pathways_filtered_table_zebra.biom')\n",
    "\n",
    "metadata = q2.Metadata.load('/projects/thdmi/metadata/consolidated_metadata_subset.tsv').to_dataframe()\n",
    "wol2_bt.filter(metadata.index.intersection(wol2_bt.ids()))\n",
    "ko_bt.filter(metadata.index.intersection(ko_bt.ids()))\n",
    "pathways_bt.filter(metadata.index.intersection(pathways_bt.ids()))"
   ]
  },
  {
   "cell_type": "code",
   "execution_count": 3,
   "id": "bb9cc247-c67b-40b7-899a-ad7af8e32773",
   "metadata": {},
   "outputs": [],
   "source": [
    "metadata_subset = metadata.loc[metadata.index.intersection(wol2_bt.ids())]"
   ]
  },
  {
   "cell_type": "code",
   "execution_count": 4,
   "id": "08698d2a-a11b-4699-8f05-a2c79ff9198d",
   "metadata": {},
   "outputs": [],
   "source": [
    "train_, test_ = train_test_split(metadata_subset, test_size = 0.5,\n",
    "                                 stratify=metadata_subset[['thdmi_cohort', 'age_cat']],\n",
    "                                 random_state=6)\n",
    "metadata_subset['train_test'] = 'test'\n",
    "metadata_subset.loc[train_.index, 'train_test'] = 'train'"
   ]
  },
  {
   "cell_type": "code",
   "execution_count": 5,
   "id": "9dfb0a5d-713f-4600-999a-a8cbd485b6b8",
   "metadata": {},
   "outputs": [
    {
     "name": "stderr",
     "output_type": "stream",
     "text": [
      "/home/adilmore/gemelli/gemelli/preprocessing.py:418: RuntimeWarning: divide by zero encountered in log\n",
      "  mat = np.log(matrix_closure(mat))\n",
      "/home/adilmore/gemelli/gemelli/preprocessing.py:418: RuntimeWarning: divide by zero encountered in log\n",
      "  mat = np.log(matrix_closure(mat))\n",
      "/home/adilmore/gemelli/gemelli/preprocessing.py:418: RuntimeWarning: divide by zero encountered in log\n",
      "  mat = np.log(matrix_closure(mat))\n",
      "/home/adilmore/gemelli/gemelli/rpca.py:740: FutureWarning: Passing a set as an indexer is deprecated and will raise in a future version. Use a list instead.\n",
      "  sample_metadata = sample_metadata.loc[shared_all_samples, :]\n",
      "/home/adilmore/gemelli/gemelli/rpca.py:900: RuntimeWarning: Removing 0 features(s) in table(s) but not the ordination.\n",
      "  warnings.warn('Removing %i features(s) in table(s)'\n"
     ]
    },
    {
     "data": {
      "image/png": "[encoded data removed]",
      "text/plain": [
       "<Figure size 640x480 with 1 Axes>"
      ]
     },
     "metadata": {},
     "output_type": "display_data"
    }
   ],
   "source": [
    "ordination, dm, cv = rpca.joint_rpca(tables=[wol2_bt, ko_bt, pathways_bt], n_test_samples = 200, sample_metadata=metadata_subset, train_test_column='train_test', n_components=3)\n",
    "corr_table = rpca.feature_correlation_table(ordination)\n",
    "plt.errorbar(x=cv.index, y=cv['mean_CV'], yerr=cv['std_CV']/2)\n",
    "plt.show()"
   ]
  },
  {
   "cell_type": "code",
   "execution_count": 9,
   "id": "8aeca454-258b-4923-8de4-9f6a781a668e",
   "metadata": {},
   "outputs": [
    {
     "data": {
      "text/plain": [
       "'/projects/thdmi/basics/results/joint_rpca_dm.qza'"
      ]
     },
     "execution_count": 9,
     "metadata": {},
     "output_type": "execute_result"
    }
   ],
   "source": [
    "q2.Artifact.import_data('DistanceMatrix', dm).save('/projects/thdmi/basics/results/joint_rpca_dm.qza')"
   ]
  },
  {
   "cell_type": "code",
   "execution_count": 14,
   "id": "2831c5d3-1d40-4037-862b-f392b3c1bbd5",
   "metadata": {},
   "outputs": [],
   "source": [
    "from qiime2.plugins import diversity "
   ]
  },
  {
   "cell_type": "code",
   "execution_count": 18,
   "id": "db5d9f4d-c8dc-44c9-a434-a2352805973d",
   "metadata": {},
   "outputs": [],
   "source": [
    "jrpca_dm = q2.Artifact.import_data('DistanceMatrix', dm)\n",
    "jrpca_pcoa = diversity.methods.pcoa(jrpca_dm, 3).pcoa\n",
    "jrpca_emp = emperor.visualizers.plot(jrpca_pcoa, q2.Metadata(metadata_subset))"
   ]
  },
  {
   "cell_type": "code",
   "execution_count": 20,
   "id": "0193c9a6-927e-472e-be05-3baa4e54d0f8",
   "metadata": {},
   "outputs": [
    {
     "data": {
      "text/plain": [
       "'/projects/thdmi/basics/results/joint_rpca_plot.qzv'"
      ]
     },
     "execution_count": 20,
     "metadata": {},
     "output_type": "execute_result"
    }
   ],
   "source": [
    "jrpca_emp.visualization.save('/projects/thdmi/basics/results/joint_rpca_plot.qzv')"
   ]
  },
  {
   "cell_type": "code",
   "execution_count": 49,
   "id": "b1bf8838-1297-4117-87dd-1951110a2e42",
   "metadata": {},
   "outputs": [
    {
     "name": "stderr",
     "output_type": "stream",
     "text": [
      "/tmp/ipykernel_21126/4084200567.py:15: SettingWithCopyWarning: \n",
      "A value is trying to be set on a copy of a slice from a DataFrame\n",
      "\n",
      "See the caveats in the documentation: https://pandas.pydata.org/pandas-docs/stable/user_guide/indexing.html#returning-a-view-versus-a-copy\n",
      "  food_data.replace({np.nan: 0}, inplace=True)\n"
     ]
    },
    {
     "data": {
      "text/plain": [
       "627 x 1177 <class 'biom.table.Table'> with 219444 nonzero entries (29% dense)"
      ]
     },
     "execution_count": 49,
     "metadata": {},
     "output_type": "execute_result"
    }
   ],
   "source": [
    "wol2_bt = biom.load_table('/projects/thdmi/feature-tables/wol2_filtered_table_zebra.biom')\n",
    "ko_bt = biom.load_table('/projects/thdmi/feature-tables/kegg_filtered_table_zebra.biom') \n",
    "pathways_bt = biom.load_table('/projects/thdmi/feature-tables/pathways_filtered_table_zebra.biom')\n",
    "\n",
    "foods_q2 = q2.Metadata.load('/projects/thdmi/metadata/consolidated_metadata_subset.tsv')\n",
    "foods = foods_q2.to_dataframe()\n",
    "#foods = foods.loc[foods['types_of_plants'].notna()]\n",
    "foods.rename_axis(index='SampleID', inplace=True)\n",
    "\n",
    "common_ids = foods.index.intersection(wol2_bt.ids())\n",
    "wol2_bt.filter(common_ids)\n",
    "\n",
    "collapsed_foods = foods.columns[foods.columns.str.startswith('Collapsed')]\n",
    "all_foods = foods.columns[foods.columns.str.startswith('GramsPerDay')]\n",
    "ultraprocessed = foods.columns[foods.columns.str.startswith('Processed')]\n",
    "\n",
    "food_data = foods[collapsed_foods.union(all_foods).union(ultraprocessed)]\n",
    "food_data.replace({np.nan: 0}, inplace=True)\n",
    "food_data_q2 = q2.Artifact.import_data('FeatureTable[Frequency]', food_data)\n",
    "food_data_bt = food_data_q2.view(biom.Table)\n",
    "food_data_bt.filter(common_ids)"
   ]
  },
  {
   "cell_type": "code",
   "execution_count": 50,
   "id": "7badac12-9393-466e-bd07-b0e75098ed3f",
   "metadata": {},
   "outputs": [],
   "source": [
    "train_, test_ = train_test_split(foods, test_size = 0.5,\n",
    "                                 stratify=foods[['thdmi_cohort', 'age_cat']],\n",
    "                                 random_state=6)\n",
    "foods['train_test'] = 'test'\n",
    "foods.loc[train_.index, 'train_test'] = 'train'"
   ]
  },
  {
   "cell_type": "code",
   "execution_count": 67,
   "id": "87da5421-cea8-411f-a850-4c94df78fb4c",
   "metadata": {},
   "outputs": [],
   "source": [
    "wol2_table_q2 = q2.Artifact.import_data('FeatureTable[Frequency]', wol2_bt)\n",
    "food_table_q2 = q2.Artifact.import_data('FeatureTable[Frequency]', food_data_bt)"
   ]
  },
  {
   "cell_type": "code",
   "execution_count": 68,
   "id": "79642fad-efe9-41a3-865a-355a32bd4b9d",
   "metadata": {},
   "outputs": [
    {
     "data": {
      "text/plain": [
       "'food_table.qza'"
      ]
     },
     "execution_count": 68,
     "metadata": {},
     "output_type": "execute_result"
    }
   ],
   "source": [
    "wol2_table_q2.save('wol2_table.qza')\n",
    "food_table_q2.save('food_table.qza')"
   ]
  },
  {
   "cell_type": "code",
   "execution_count": 70,
   "id": "349fdaae-a1e6-4591-8b50-7f16677ecd11",
   "metadata": {},
   "outputs": [],
   "source": [
    "foods['train_test'].replace({'train': 'Train', 'test': 'Test'}, inplace=True)\n",
    "foods[['thdmi_cohort', 'age_cat', 'train_test', 'antibiotic_history', 'covid_level_of_wellbeing', 'types_of_plants', 'bmi_cat']].to_csv('mmvec_metadata.tsv', sep='\\t')"
   ]
  },
  {
   "cell_type": "code",
   "execution_count": 51,
   "id": "680cd5aa-1d86-4383-b370-92bf0c582e53",
   "metadata": {},
   "outputs": [
    {
     "name": "stderr",
     "output_type": "stream",
     "text": [
      "/home/adilmore/gemelli/gemelli/preprocessing.py:418: RuntimeWarning: divide by zero encountered in log\n",
      "  mat = np.log(matrix_closure(mat))\n",
      "/home/adilmore/gemelli/gemelli/preprocessing.py:418: RuntimeWarning: divide by zero encountered in log\n",
      "  mat = np.log(matrix_closure(mat))\n",
      "/home/adilmore/gemelli/gemelli/rpca.py:740: FutureWarning: Passing a set as an indexer is deprecated and will raise in a future version. Use a list instead.\n",
      "  sample_metadata = sample_metadata.loc[shared_all_samples, :]\n",
      "/home/adilmore/gemelli/gemelli/rpca.py:900: RuntimeWarning: Removing 0 features(s) in table(s) but not the ordination.\n",
      "  warnings.warn('Removing %i features(s) in table(s)'\n"
     ]
    },
    {
     "data": {
      "image/png": "[encoded data removed]",
      "text/plain": [
       "<Figure size 640x480 with 1 Axes>"
      ]
     },
     "metadata": {},
     "output_type": "display_data"
    }
   ],
   "source": [
    "ordination, dm, cv = rpca.joint_rpca(tables=[wol2_bt, food_data_bt], n_test_samples = 200, sample_metadata=foods, train_test_column='train_test', n_components=3)\n",
    "corr_table = rpca.feature_correlation_table(ordination)\n",
    "plt.errorbar(x=cv.index, y=cv['mean_CV'], yerr=cv['std_CV']/2)\n",
    "plt.show()"
   ]
  },
  {
   "cell_type": "code",
   "execution_count": 52,
   "id": "9bd01f75-4b7f-4f3f-8eb1-9f67cc24bffc",
   "metadata": {},
   "outputs": [
    {
     "data": {
      "text/plain": [
       "615 x 1177 <class 'biom.table.Table'> with 219444 nonzero entries (30% dense)"
      ]
     },
     "execution_count": 52,
     "metadata": {},
     "output_type": "execute_result"
    }
   ],
   "source": [
    "food_data_bt"
   ]
  },
  {
   "cell_type": "code",
   "execution_count": 53,
   "id": "69428cc1-a918-44e1-9c3e-79c878b3743f",
   "metadata": {},
   "outputs": [
    {
     "data": {
      "text/plain": [
       "'emperor_biplot.qzv'"
      ]
     },
     "execution_count": 53,
     "metadata": {},
     "output_type": "execute_result"
    }
   ],
   "source": [
    "biplot = q2.Artifact.import_data(\"PCoAResults % Properties('biplot')\", ordination)\n",
    "\n",
    "emp_biplot = emperor.visualizers.biplot(biplot, foods_q2, number_of_features = 10).visualization\n",
    "emp_biplot.save('emperor_biplot.qzv')"
   ]
  },
  {
   "cell_type": "code",
   "execution_count": null,
   "id": "deae866c-57be-4f0a-bb25-63d14b92c663",
   "metadata": {},
   "outputs": [],
   "source": [
    "corr_table.loc[corr_table.index.intersection(ultraprocessed)][corr_table.index.intersection(wol2_bt.ids(axis='observation'))]"
   ]
  },
  {
   "cell_type": "code",
   "execution_count": 62,
   "id": "392775e4-7ac3-4781-bb2c-ffad2cf6be2a",
   "metadata": {},
   "outputs": [
    {
     "data": {
      "text/html": [
       "<div>\n",
       "<style scoped>\n",
       "    .dataframe tbody tr th:only-of-type {\n",
       "        vertical-align: middle;\n",
       "    }\n",
       "\n",
       "    .dataframe tbody tr th {\n",
       "        vertical-align: top;\n",
       "    }\n",
       "\n",
       "    .dataframe thead th {\n",
       "        text-align: right;\n",
       "    }\n",
       "</style>\n",
       "<table border=\"1\" class=\"dataframe\">\n",
       "  <thead>\n",
       "    <tr style=\"text-align: right;\">\n",
       "      <th>featureid</th>\n",
       "      <th>G000006605</th>\n",
       "      <th>G000006785</th>\n",
       "      <th>G000006845</th>\n",
       "      <th>G000006865</th>\n",
       "      <th>G000006925</th>\n",
       "      <th>G000007265</th>\n",
       "      <th>G000007325</th>\n",
       "      <th>G000007525</th>\n",
       "      <th>G000007745</th>\n",
       "      <th>G000007785</th>\n",
       "      <th>...</th>\n",
       "      <th>G902794445</th>\n",
       "      <th>G902798515</th>\n",
       "      <th>G902798535</th>\n",
       "      <th>G902798655</th>\n",
       "      <th>G902798845</th>\n",
       "      <th>G902799635</th>\n",
       "      <th>G902800075</th>\n",
       "      <th>G902801795</th>\n",
       "      <th>G902801825</th>\n",
       "      <th>G902801975</th>\n",
       "    </tr>\n",
       "  </thead>\n",
       "  <tbody>\n",
       "    <tr>\n",
       "      <th>Processed_Calories_Nova_processed_culinary_ingredients</th>\n",
       "      <td>0.999549</td>\n",
       "      <td>0.999796</td>\n",
       "      <td>0.999636</td>\n",
       "      <td>-0.991809</td>\n",
       "      <td>-0.991203</td>\n",
       "      <td>0.999559</td>\n",
       "      <td>0.999693</td>\n",
       "      <td>-0.999956</td>\n",
       "      <td>0.999745</td>\n",
       "      <td>-0.949400</td>\n",
       "      <td>...</td>\n",
       "      <td>0.999749</td>\n",
       "      <td>0.998335</td>\n",
       "      <td>0.999840</td>\n",
       "      <td>0.999658</td>\n",
       "      <td>0.999605</td>\n",
       "      <td>0.997464</td>\n",
       "      <td>0.999948</td>\n",
       "      <td>0.996862</td>\n",
       "      <td>0.996540</td>\n",
       "      <td>0.998806</td>\n",
       "    </tr>\n",
       "    <tr>\n",
       "      <th>Processed_Calories_Nova_processed_foods</th>\n",
       "      <td>-0.628812</td>\n",
       "      <td>-0.658344</td>\n",
       "      <td>-0.664031</td>\n",
       "      <td>0.718708</td>\n",
       "      <td>0.732671</td>\n",
       "      <td>-0.635961</td>\n",
       "      <td>-0.651258</td>\n",
       "      <td>0.652493</td>\n",
       "      <td>-0.662388</td>\n",
       "      <td>0.855622</td>\n",
       "      <td>...</td>\n",
       "      <td>-0.655911</td>\n",
       "      <td>-0.656404</td>\n",
       "      <td>-0.651154</td>\n",
       "      <td>-0.657972</td>\n",
       "      <td>-0.641590</td>\n",
       "      <td>-0.686127</td>\n",
       "      <td>-0.657242</td>\n",
       "      <td>-0.666889</td>\n",
       "      <td>-0.675265</td>\n",
       "      <td>-0.670311</td>\n",
       "    </tr>\n",
       "    <tr>\n",
       "      <th>Processed_Calories_Nova_ratio_any_processed_unprocessed</th>\n",
       "      <td>0.999649</td>\n",
       "      <td>0.999606</td>\n",
       "      <td>0.999437</td>\n",
       "      <td>-0.987259</td>\n",
       "      <td>-0.987037</td>\n",
       "      <td>0.999939</td>\n",
       "      <td>0.999869</td>\n",
       "      <td>-0.999598</td>\n",
       "      <td>0.999446</td>\n",
       "      <td>-0.945420</td>\n",
       "      <td>...</td>\n",
       "      <td>0.999729</td>\n",
       "      <td>0.999458</td>\n",
       "      <td>0.999795</td>\n",
       "      <td>0.999698</td>\n",
       "      <td>0.999976</td>\n",
       "      <td>0.997899</td>\n",
       "      <td>0.999369</td>\n",
       "      <td>0.998393</td>\n",
       "      <td>0.997919</td>\n",
       "      <td>0.999167</td>\n",
       "    </tr>\n",
       "    <tr>\n",
       "      <th>Processed_Calories_Nova_ratio_ultra_processed_unprocessed</th>\n",
       "      <td>0.998660</td>\n",
       "      <td>0.999770</td>\n",
       "      <td>0.999835</td>\n",
       "      <td>-0.989393</td>\n",
       "      <td>-0.989820</td>\n",
       "      <td>0.999287</td>\n",
       "      <td>0.999805</td>\n",
       "      <td>-0.999491</td>\n",
       "      <td>0.999759</td>\n",
       "      <td>-0.954368</td>\n",
       "      <td>...</td>\n",
       "      <td>0.999821</td>\n",
       "      <td>0.999795</td>\n",
       "      <td>0.999687</td>\n",
       "      <td>0.999887</td>\n",
       "      <td>0.999551</td>\n",
       "      <td>0.999361</td>\n",
       "      <td>0.999421</td>\n",
       "      <td>0.999263</td>\n",
       "      <td>0.999114</td>\n",
       "      <td>0.999935</td>\n",
       "    </tr>\n",
       "    <tr>\n",
       "      <th>Processed_Calories_Nova_ultra_processed_foods</th>\n",
       "      <td>-0.999571</td>\n",
       "      <td>-0.998286</td>\n",
       "      <td>-0.997798</td>\n",
       "      <td>0.988823</td>\n",
       "      <td>0.987195</td>\n",
       "      <td>-0.999025</td>\n",
       "      <td>-0.998394</td>\n",
       "      <td>0.998875</td>\n",
       "      <td>-0.998057</td>\n",
       "      <td>0.936735</td>\n",
       "      <td>...</td>\n",
       "      <td>-0.998288</td>\n",
       "      <td>-0.996197</td>\n",
       "      <td>-0.998667</td>\n",
       "      <td>-0.998044</td>\n",
       "      <td>-0.998756</td>\n",
       "      <td>-0.993949</td>\n",
       "      <td>-0.998709</td>\n",
       "      <td>-0.993857</td>\n",
       "      <td>-0.993122</td>\n",
       "      <td>-0.996286</td>\n",
       "    </tr>\n",
       "    <tr>\n",
       "      <th>...</th>\n",
       "      <td>...</td>\n",
       "      <td>...</td>\n",
       "      <td>...</td>\n",
       "      <td>...</td>\n",
       "      <td>...</td>\n",
       "      <td>...</td>\n",
       "      <td>...</td>\n",
       "      <td>...</td>\n",
       "      <td>...</td>\n",
       "      <td>...</td>\n",
       "      <td>...</td>\n",
       "      <td>...</td>\n",
       "      <td>...</td>\n",
       "      <td>...</td>\n",
       "      <td>...</td>\n",
       "      <td>...</td>\n",
       "      <td>...</td>\n",
       "      <td>...</td>\n",
       "      <td>...</td>\n",
       "      <td>...</td>\n",
       "      <td>...</td>\n",
       "    </tr>\n",
       "    <tr>\n",
       "      <th>Processed_Grams_Subgroup_table_salt</th>\n",
       "      <td>0.999803</td>\n",
       "      <td>0.999793</td>\n",
       "      <td>0.999596</td>\n",
       "      <td>-0.990149</td>\n",
       "      <td>-0.989571</td>\n",
       "      <td>0.999852</td>\n",
       "      <td>0.999838</td>\n",
       "      <td>-0.999939</td>\n",
       "      <td>0.999686</td>\n",
       "      <td>-0.946938</td>\n",
       "      <td>...</td>\n",
       "      <td>0.999810</td>\n",
       "      <td>0.998721</td>\n",
       "      <td>0.999921</td>\n",
       "      <td>0.999724</td>\n",
       "      <td>0.999863</td>\n",
       "      <td>0.997471</td>\n",
       "      <td>0.999839</td>\n",
       "      <td>0.997299</td>\n",
       "      <td>0.996883</td>\n",
       "      <td>0.998890</td>\n",
       "    </tr>\n",
       "    <tr>\n",
       "      <th>Processed_Grams_Subgroup_table_sugar</th>\n",
       "      <td>0.995554</td>\n",
       "      <td>0.998346</td>\n",
       "      <td>0.998689</td>\n",
       "      <td>-0.995988</td>\n",
       "      <td>-0.996637</td>\n",
       "      <td>0.996189</td>\n",
       "      <td>0.997641</td>\n",
       "      <td>-0.997986</td>\n",
       "      <td>0.998647</td>\n",
       "      <td>-0.967969</td>\n",
       "      <td>...</td>\n",
       "      <td>0.998094</td>\n",
       "      <td>0.996827</td>\n",
       "      <td>0.997765</td>\n",
       "      <td>0.998189</td>\n",
       "      <td>0.996722</td>\n",
       "      <td>0.998576</td>\n",
       "      <td>0.998386</td>\n",
       "      <td>0.996359</td>\n",
       "      <td>0.996780</td>\n",
       "      <td>0.998464</td>\n",
       "    </tr>\n",
       "    <tr>\n",
       "      <th>Processed_Grams_Subgroup_tofu__soy_or_meat_substitute</th>\n",
       "      <td>0.998563</td>\n",
       "      <td>0.999750</td>\n",
       "      <td>0.999831</td>\n",
       "      <td>-0.989504</td>\n",
       "      <td>-0.989975</td>\n",
       "      <td>0.999213</td>\n",
       "      <td>0.999770</td>\n",
       "      <td>-0.999453</td>\n",
       "      <td>0.999749</td>\n",
       "      <td>-0.954936</td>\n",
       "      <td>...</td>\n",
       "      <td>0.999797</td>\n",
       "      <td>0.999786</td>\n",
       "      <td>0.999649</td>\n",
       "      <td>0.999868</td>\n",
       "      <td>0.999492</td>\n",
       "      <td>0.999428</td>\n",
       "      <td>0.999393</td>\n",
       "      <td>0.999290</td>\n",
       "      <td>0.999164</td>\n",
       "      <td>0.999955</td>\n",
       "    </tr>\n",
       "    <tr>\n",
       "      <th>Processed_Grams_Subgroup_ultra_processed_legume_products</th>\n",
       "      <td>-0.977651</td>\n",
       "      <td>-0.983596</td>\n",
       "      <td>-0.984440</td>\n",
       "      <td>0.997927</td>\n",
       "      <td>0.998781</td>\n",
       "      <td>-0.978154</td>\n",
       "      <td>-0.981378</td>\n",
       "      <td>0.983175</td>\n",
       "      <td>-0.984510</td>\n",
       "      <td>0.982643</td>\n",
       "      <td>...</td>\n",
       "      <td>-0.982713</td>\n",
       "      <td>-0.978651</td>\n",
       "      <td>-0.982049</td>\n",
       "      <td>-0.982830</td>\n",
       "      <td>-0.979172</td>\n",
       "      <td>-0.984667</td>\n",
       "      <td>-0.984531</td>\n",
       "      <td>-0.978103</td>\n",
       "      <td>-0.979625</td>\n",
       "      <td>-0.983354</td>\n",
       "    </tr>\n",
       "    <tr>\n",
       "      <th>Processed_Grams_Subgroup_vegetables</th>\n",
       "      <td>-0.999801</td>\n",
       "      <td>-0.999593</td>\n",
       "      <td>-0.999383</td>\n",
       "      <td>0.987520</td>\n",
       "      <td>0.987127</td>\n",
       "      <td>-0.999990</td>\n",
       "      <td>-0.999844</td>\n",
       "      <td>0.999658</td>\n",
       "      <td>-0.999422</td>\n",
       "      <td>0.944376</td>\n",
       "      <td>...</td>\n",
       "      <td>-0.999704</td>\n",
       "      <td>-0.999225</td>\n",
       "      <td>-0.999809</td>\n",
       "      <td>-0.999647</td>\n",
       "      <td>-0.999987</td>\n",
       "      <td>-0.997563</td>\n",
       "      <td>-0.999432</td>\n",
       "      <td>-0.998005</td>\n",
       "      <td>-0.997494</td>\n",
       "      <td>-0.998966</td>\n",
       "    </tr>\n",
       "  </tbody>\n",
       "</table>\n",
       "<p>107 rows × 1783 columns</p>\n",
       "</div>"
      ],
      "text/plain": [
       "featureid                                           G000006605  G000006785  \\\n",
       "Processed_Calories_Nova_processed_culinary_ingr...    0.999549    0.999796   \n",
       "Processed_Calories_Nova_processed_foods              -0.628812   -0.658344   \n",
       "Processed_Calories_Nova_ratio_any_processed_unp...    0.999649    0.999606   \n",
       "Processed_Calories_Nova_ratio_ultra_processed_u...    0.998660    0.999770   \n",
       "Processed_Calories_Nova_ultra_processed_foods        -0.999571   -0.998286   \n",
       "...                                                        ...         ...   \n",
       "Processed_Grams_Subgroup_table_salt                   0.999803    0.999793   \n",
       "Processed_Grams_Subgroup_table_sugar                  0.995554    0.998346   \n",
       "Processed_Grams_Subgroup_tofu__soy_or_meat_subs...    0.998563    0.999750   \n",
       "Processed_Grams_Subgroup_ultra_processed_legume...   -0.977651   -0.983596   \n",
       "Processed_Grams_Subgroup_vegetables                  -0.999801   -0.999593   \n",
       "\n",
       "featureid                                           G000006845  G000006865  \\\n",
       "Processed_Calories_Nova_processed_culinary_ingr...    0.999636   -0.991809   \n",
       "Processed_Calories_Nova_processed_foods              -0.664031    0.718708   \n",
       "Processed_Calories_Nova_ratio_any_processed_unp...    0.999437   -0.987259   \n",
       "Processed_Calories_Nova_ratio_ultra_processed_u...    0.999835   -0.989393   \n",
       "Processed_Calories_Nova_ultra_processed_foods        -0.997798    0.988823   \n",
       "...                                                        ...         ...   \n",
       "Processed_Grams_Subgroup_table_salt                   0.999596   -0.990149   \n",
       "Processed_Grams_Subgroup_table_sugar                  0.998689   -0.995988   \n",
       "Processed_Grams_Subgroup_tofu__soy_or_meat_subs...    0.999831   -0.989504   \n",
       "Processed_Grams_Subgroup_ultra_processed_legume...   -0.984440    0.997927   \n",
       "Processed_Grams_Subgroup_vegetables                  -0.999383    0.987520   \n",
       "\n",
       "featureid                                           G000006925  G000007265  \\\n",
       "Processed_Calories_Nova_processed_culinary_ingr...   -0.991203    0.999559   \n",
       "Processed_Calories_Nova_processed_foods               0.732671   -0.635961   \n",
       "Processed_Calories_Nova_ratio_any_processed_unp...   -0.987037    0.999939   \n",
       "Processed_Calories_Nova_ratio_ultra_processed_u...   -0.989820    0.999287   \n",
       "Processed_Calories_Nova_ultra_processed_foods         0.987195   -0.999025   \n",
       "...                                                        ...         ...   \n",
       "Processed_Grams_Subgroup_table_salt                  -0.989571    0.999852   \n",
       "Processed_Grams_Subgroup_table_sugar                 -0.996637    0.996189   \n",
       "Processed_Grams_Subgroup_tofu__soy_or_meat_subs...   -0.989975    0.999213   \n",
       "Processed_Grams_Subgroup_ultra_processed_legume...    0.998781   -0.978154   \n",
       "Processed_Grams_Subgroup_vegetables                   0.987127   -0.999990   \n",
       "\n",
       "featureid                                           G000007325  G000007525  \\\n",
       "Processed_Calories_Nova_processed_culinary_ingr...    0.999693   -0.999956   \n",
       "Processed_Calories_Nova_processed_foods              -0.651258    0.652493   \n",
       "Processed_Calories_Nova_ratio_any_processed_unp...    0.999869   -0.999598   \n",
       "Processed_Calories_Nova_ratio_ultra_processed_u...    0.999805   -0.999491   \n",
       "Processed_Calories_Nova_ultra_processed_foods        -0.998394    0.998875   \n",
       "...                                                        ...         ...   \n",
       "Processed_Grams_Subgroup_table_salt                   0.999838   -0.999939   \n",
       "Processed_Grams_Subgroup_table_sugar                  0.997641   -0.997986   \n",
       "Processed_Grams_Subgroup_tofu__soy_or_meat_subs...    0.999770   -0.999453   \n",
       "Processed_Grams_Subgroup_ultra_processed_legume...   -0.981378    0.983175   \n",
       "Processed_Grams_Subgroup_vegetables                  -0.999844    0.999658   \n",
       "\n",
       "featureid                                           G000007745  G000007785  \\\n",
       "Processed_Calories_Nova_processed_culinary_ingr...    0.999745   -0.949400   \n",
       "Processed_Calories_Nova_processed_foods              -0.662388    0.855622   \n",
       "Processed_Calories_Nova_ratio_any_processed_unp...    0.999446   -0.945420   \n",
       "Processed_Calories_Nova_ratio_ultra_processed_u...    0.999759   -0.954368   \n",
       "Processed_Calories_Nova_ultra_processed_foods        -0.998057    0.936735   \n",
       "...                                                        ...         ...   \n",
       "Processed_Grams_Subgroup_table_salt                   0.999686   -0.946938   \n",
       "Processed_Grams_Subgroup_table_sugar                  0.998647   -0.967969   \n",
       "Processed_Grams_Subgroup_tofu__soy_or_meat_subs...    0.999749   -0.954936   \n",
       "Processed_Grams_Subgroup_ultra_processed_legume...   -0.984510    0.982643   \n",
       "Processed_Grams_Subgroup_vegetables                  -0.999422    0.944376   \n",
       "\n",
       "featureid                                           ...  G902794445  \\\n",
       "Processed_Calories_Nova_processed_culinary_ingr...  ...    0.999749   \n",
       "Processed_Calories_Nova_processed_foods             ...   -0.655911   \n",
       "Processed_Calories_Nova_ratio_any_processed_unp...  ...    0.999729   \n",
       "Processed_Calories_Nova_ratio_ultra_processed_u...  ...    0.999821   \n",
       "Processed_Calories_Nova_ultra_processed_foods       ...   -0.998288   \n",
       "...                                                 ...         ...   \n",
       "Processed_Grams_Subgroup_table_salt                 ...    0.999810   \n",
       "Processed_Grams_Subgroup_table_sugar                ...    0.998094   \n",
       "Processed_Grams_Subgroup_tofu__soy_or_meat_subs...  ...    0.999797   \n",
       "Processed_Grams_Subgroup_ultra_processed_legume...  ...   -0.982713   \n",
       "Processed_Grams_Subgroup_vegetables                 ...   -0.999704   \n",
       "\n",
       "featureid                                           G902798515  G902798535  \\\n",
       "Processed_Calories_Nova_processed_culinary_ingr...    0.998335    0.999840   \n",
       "Processed_Calories_Nova_processed_foods              -0.656404   -0.651154   \n",
       "Processed_Calories_Nova_ratio_any_processed_unp...    0.999458    0.999795   \n",
       "Processed_Calories_Nova_ratio_ultra_processed_u...    0.999795    0.999687   \n",
       "Processed_Calories_Nova_ultra_processed_foods        -0.996197   -0.998667   \n",
       "...                                                        ...         ...   \n",
       "Processed_Grams_Subgroup_table_salt                   0.998721    0.999921   \n",
       "Processed_Grams_Subgroup_table_sugar                  0.996827    0.997765   \n",
       "Processed_Grams_Subgroup_tofu__soy_or_meat_subs...    0.999786    0.999649   \n",
       "Processed_Grams_Subgroup_ultra_processed_legume...   -0.978651   -0.982049   \n",
       "Processed_Grams_Subgroup_vegetables                  -0.999225   -0.999809   \n",
       "\n",
       "featureid                                           G902798655  G902798845  \\\n",
       "Processed_Calories_Nova_processed_culinary_ingr...    0.999658    0.999605   \n",
       "Processed_Calories_Nova_processed_foods              -0.657972   -0.641590   \n",
       "Processed_Calories_Nova_ratio_any_processed_unp...    0.999698    0.999976   \n",
       "Processed_Calories_Nova_ratio_ultra_processed_u...    0.999887    0.999551   \n",
       "Processed_Calories_Nova_ultra_processed_foods        -0.998044   -0.998756   \n",
       "...                                                        ...         ...   \n",
       "Processed_Grams_Subgroup_table_salt                   0.999724    0.999863   \n",
       "Processed_Grams_Subgroup_table_sugar                  0.998189    0.996722   \n",
       "Processed_Grams_Subgroup_tofu__soy_or_meat_subs...    0.999868    0.999492   \n",
       "Processed_Grams_Subgroup_ultra_processed_legume...   -0.982830   -0.979172   \n",
       "Processed_Grams_Subgroup_vegetables                  -0.999647   -0.999987   \n",
       "\n",
       "featureid                                           G902799635  G902800075  \\\n",
       "Processed_Calories_Nova_processed_culinary_ingr...    0.997464    0.999948   \n",
       "Processed_Calories_Nova_processed_foods              -0.686127   -0.657242   \n",
       "Processed_Calories_Nova_ratio_any_processed_unp...    0.997899    0.999369   \n",
       "Processed_Calories_Nova_ratio_ultra_processed_u...    0.999361    0.999421   \n",
       "Processed_Calories_Nova_ultra_processed_foods        -0.993949   -0.998709   \n",
       "...                                                        ...         ...   \n",
       "Processed_Grams_Subgroup_table_salt                   0.997471    0.999839   \n",
       "Processed_Grams_Subgroup_table_sugar                  0.998576    0.998386   \n",
       "Processed_Grams_Subgroup_tofu__soy_or_meat_subs...    0.999428    0.999393   \n",
       "Processed_Grams_Subgroup_ultra_processed_legume...   -0.984667   -0.984531   \n",
       "Processed_Grams_Subgroup_vegetables                  -0.997563   -0.999432   \n",
       "\n",
       "featureid                                           G902801795  G902801825  \\\n",
       "Processed_Calories_Nova_processed_culinary_ingr...    0.996862    0.996540   \n",
       "Processed_Calories_Nova_processed_foods              -0.666889   -0.675265   \n",
       "Processed_Calories_Nova_ratio_any_processed_unp...    0.998393    0.997919   \n",
       "Processed_Calories_Nova_ratio_ultra_processed_u...    0.999263    0.999114   \n",
       "Processed_Calories_Nova_ultra_processed_foods        -0.993857   -0.993122   \n",
       "...                                                        ...         ...   \n",
       "Processed_Grams_Subgroup_table_salt                   0.997299    0.996883   \n",
       "Processed_Grams_Subgroup_table_sugar                  0.996359    0.996780   \n",
       "Processed_Grams_Subgroup_tofu__soy_or_meat_subs...    0.999290    0.999164   \n",
       "Processed_Grams_Subgroup_ultra_processed_legume...   -0.978103   -0.979625   \n",
       "Processed_Grams_Subgroup_vegetables                  -0.998005   -0.997494   \n",
       "\n",
       "featureid                                           G902801975  \n",
       "Processed_Calories_Nova_processed_culinary_ingr...    0.998806  \n",
       "Processed_Calories_Nova_processed_foods              -0.670311  \n",
       "Processed_Calories_Nova_ratio_any_processed_unp...    0.999167  \n",
       "Processed_Calories_Nova_ratio_ultra_processed_u...    0.999935  \n",
       "Processed_Calories_Nova_ultra_processed_foods        -0.996286  \n",
       "...                                                        ...  \n",
       "Processed_Grams_Subgroup_table_salt                   0.998890  \n",
       "Processed_Grams_Subgroup_table_sugar                  0.998464  \n",
       "Processed_Grams_Subgroup_tofu__soy_or_meat_subs...    0.999955  \n",
       "Processed_Grams_Subgroup_ultra_processed_legume...   -0.983354  \n",
       "Processed_Grams_Subgroup_vegetables                  -0.998966  \n",
       "\n",
       "[107 rows x 1783 columns]"
      ]
     },
     "execution_count": 62,
     "metadata": {},
     "output_type": "execute_result"
    }
   ],
   "source": [
    "corr_table.loc[corr_table.index.intersection(ultraprocessed)][corr_table.index.intersection(wol2_bt.ids(axis='observation'))]"
   ]
  },
  {
   "cell_type": "markdown",
   "id": "f3d7d86b-17ae-479d-aa89-755f73d2de80",
   "metadata": {},
   "source": [
    "# metadata"
   ]
  },
  {
   "cell_type": "code",
   "execution_count": 2,
   "id": "8c21af8d-54c2-41a8-9473-b3bc2719191e",
   "metadata": {},
   "outputs": [],
   "source": [
    "wol2_table = q2.Artifact.load('wol2_table.qza').view(pd.DataFrame)\n",
    "food_table = q2.Artifact.load('food_table.qza').view(pd.DataFrame)"
   ]
  },
  {
   "cell_type": "code",
   "execution_count": 15,
   "id": "e56acb34-6f43-4010-b9f3-17355641121f",
   "metadata": {},
   "outputs": [],
   "source": [
    "wol2_metadata = q2.Artifact.import_data(type='FeatureData[Taxonomy]', view='/projects/wol/qiyun/wol2/taxonomy/lineages.txt', view_type='HeaderlessTSVTaxonomyFormat') \n",
    "wol2_md = wol2_metadata.view(pd.DataFrame)\n",
    "wol2_md[['domain', 'phylum', 'class', 'order', 'family', 'genus', 'species']] = wol2_md['Taxon'].str.split(';', expand=True)\n",
    "wol2_md.drop(columns=['Taxon'], inplace=True) \n",
    "wol2_md.to_csv('wol2_taxonomy.tsv', sep='\\t')"
   ]
  },
  {
   "cell_type": "code",
   "execution_count": 66,
   "id": "23d4c374-35ca-483e-9d5d-78cc2ef2a84f",
   "metadata": {},
   "outputs": [],
   "source": [
    "# fermented foods\n",
    "# non-fermented collapsed \n",
    "# GramsPerDay \n",
    "# Processed grams \n",
    "# Processed calories\n",
    "\n",
    "fermented = food_table.columns[food_table.columns.str.startswith('Collapsed_Fermented')]\n",
    "fermented_names = {i:'_'.join(i.split('_')[1:]) for i in fermented} \n",
    "collapsed = food_table.columns[food_table.columns.str.startswith('Collapsed_Foods')]\n",
    "collapsed_names = {i:'_'.join(i.split('_')[2:]) for i in collapsed}\n",
    "individual_foods = food_table.columns[food_table.columns.str.startswith('GramsPerDay')]\n",
    "individual_food_names = {i:'_'.join(i.split('_')[1:len(i.split('_'))-2]) for i in individual_foods}\n",
    "processed = food_table.columns[food_table.columns.str.startswith('Processed_')]\n",
    "processed_names = {i:i for i in processed}\n",
    "\n",
    "fermented_names.update(collapsed_names)\n",
    "fermented_names.update(individual_food_names)\n",
    "fermented_names.update(processed_names)\n",
    "food_md = pd.DataFrame.from_dict(fermented_names, orient='index', columns=['Name'])\n",
    "names = []\n",
    "for i in food_md.index: \n",
    "    if i in fermented: \n",
    "        names.append('Fermented') \n",
    "    elif i in collapsed: \n",
    "        names.append('Collapsed_Foods')\n",
    "    elif i in individual_foods: \n",
    "        names.append('Individual_Foods')\n",
    "    else: \n",
    "        names.append('Processed')\n",
    "food_md['Category'] = names\n",
    "food_md.rename_axis(index='Feature ID', inplace=True)\n",
    "food_md.to_csv('food_metadata.tsv', sep='\\t')"
   ]
  }
 ],
 "metadata": {
  "kernelspec": {
   "display_name": "qiime2-2022.11",
   "language": "python",
   "name": "qiime2-2022.11"
  },
  "language_info": {
   "codemirror_mode": {
    "name": "ipython",
    "version": 3
   },
   "file_extension": ".py",
   "mimetype": "text/x-python",
   "name": "python",
   "nbconvert_exporter": "python",
   "pygments_lexer": "ipython3",
   "version": "3.8.15"
  }
 },
 "nbformat": 4,
 "nbformat_minor": 5
}
